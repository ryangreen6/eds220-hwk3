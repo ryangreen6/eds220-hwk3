{
 "cells": [
  {
   "cell_type": "code",
   "execution_count": 1,
   "metadata": {
    "deletable": false,
    "editable": false
   },
   "outputs": [
    {
     "ename": "FileNotFoundError",
     "evalue": "[Errno 2] No such file or directory: 'hwk3-task1-spills.ipynb'",
     "output_type": "error",
     "traceback": [
      "\u001b[0;31m---------------------------------------------------------------------------\u001b[0m",
      "\u001b[0;31mAttributeError\u001b[0m                            Traceback (most recent call last)",
      "File \u001b[0;32m/opt/anaconda3/envs/eds220-env/lib/python3.11/site-packages/nbformat/__init__.py:169\u001b[0m, in \u001b[0;36mread\u001b[0;34m(fp, as_version, capture_validation_error, **kwargs)\u001b[0m\n\u001b[1;32m    168\u001b[0m \u001b[38;5;28;01mtry\u001b[39;00m:\n\u001b[0;32m--> 169\u001b[0m     buf \u001b[38;5;241m=\u001b[39m \u001b[43mfp\u001b[49m\u001b[38;5;241;43m.\u001b[39;49m\u001b[43mread\u001b[49m()\n\u001b[1;32m    170\u001b[0m \u001b[38;5;28;01mexcept\u001b[39;00m \u001b[38;5;167;01mAttributeError\u001b[39;00m:\n",
      "\u001b[0;31mAttributeError\u001b[0m: 'str' object has no attribute 'read'",
      "\nDuring handling of the above exception, another exception occurred:\n",
      "\u001b[0;31mFileNotFoundError\u001b[0m                         Traceback (most recent call last)",
      "Cell \u001b[0;32mIn[1], line 3\u001b[0m\n\u001b[1;32m      1\u001b[0m \u001b[38;5;66;03m# Initialize Otter\u001b[39;00m\n\u001b[1;32m      2\u001b[0m \u001b[38;5;28;01mimport\u001b[39;00m \u001b[38;5;21;01motter\u001b[39;00m\n\u001b[0;32m----> 3\u001b[0m grader \u001b[38;5;241m=\u001b[39m \u001b[43motter\u001b[49m\u001b[38;5;241;43m.\u001b[39;49m\u001b[43mNotebook\u001b[49m\u001b[43m(\u001b[49m\u001b[38;5;124;43m\"\u001b[39;49m\u001b[38;5;124;43mhwk3-task1-spills.ipynb\u001b[39;49m\u001b[38;5;124;43m\"\u001b[39;49m\u001b[43m)\u001b[49m\n",
      "File \u001b[0;32m/opt/anaconda3/envs/eds220-env/lib/python3.11/site-packages/otter/check/utils.py:217\u001b[0m, in \u001b[0;36mlogs_event.<locals>.event_logger\u001b[0;34m(wrapped, self, args, kwargs)\u001b[0m\n\u001b[1;32m    215\u001b[0m \u001b[38;5;28;01mexcept\u001b[39;00m \u001b[38;5;167;01mException\u001b[39;00m \u001b[38;5;28;01mas\u001b[39;00m e:\n\u001b[1;32m    216\u001b[0m     \u001b[38;5;28mself\u001b[39m\u001b[38;5;241m.\u001b[39m_log_event(event_type, success\u001b[38;5;241m=\u001b[39m\u001b[38;5;28;01mFalse\u001b[39;00m, error\u001b[38;5;241m=\u001b[39me)\n\u001b[0;32m--> 217\u001b[0m     \u001b[38;5;28;01mraise\u001b[39;00m e\n\u001b[1;32m    219\u001b[0m \u001b[38;5;28;01mif\u001b[39;00m ret \u001b[38;5;129;01mis\u001b[39;00m \u001b[38;5;28;01mNone\u001b[39;00m:\n\u001b[1;32m    220\u001b[0m     ret \u001b[38;5;241m=\u001b[39m LoggedEventReturnValue(\u001b[38;5;28;01mNone\u001b[39;00m)\n",
      "File \u001b[0;32m/opt/anaconda3/envs/eds220-env/lib/python3.11/site-packages/otter/check/utils.py:213\u001b[0m, in \u001b[0;36mlogs_event.<locals>.event_logger\u001b[0;34m(wrapped, self, args, kwargs)\u001b[0m\n\u001b[1;32m    208\u001b[0m \u001b[38;5;250m\u001b[39m\u001b[38;5;124;03m\"\"\"\u001b[39;00m\n\u001b[1;32m    209\u001b[0m \u001b[38;5;124;03mRuns a method, catching any errors and logging the call. Returns the unwrapped return value\u001b[39;00m\n\u001b[1;32m    210\u001b[0m \u001b[38;5;124;03mof the wrapped function.\u001b[39;00m\n\u001b[1;32m    211\u001b[0m \u001b[38;5;124;03m\"\"\"\u001b[39;00m\n\u001b[1;32m    212\u001b[0m \u001b[38;5;28;01mtry\u001b[39;00m:\n\u001b[0;32m--> 213\u001b[0m     ret: Optional[LoggedEventReturnValue[T]] \u001b[38;5;241m=\u001b[39m \u001b[43mwrapped\u001b[49m\u001b[43m(\u001b[49m\u001b[38;5;241;43m*\u001b[39;49m\u001b[43margs\u001b[49m\u001b[43m,\u001b[49m\u001b[43m \u001b[49m\u001b[38;5;241;43m*\u001b[39;49m\u001b[38;5;241;43m*\u001b[39;49m\u001b[43mkwargs\u001b[49m\u001b[43m)\u001b[49m\n\u001b[1;32m    215\u001b[0m \u001b[38;5;28;01mexcept\u001b[39;00m \u001b[38;5;167;01mException\u001b[39;00m \u001b[38;5;28;01mas\u001b[39;00m e:\n\u001b[1;32m    216\u001b[0m     \u001b[38;5;28mself\u001b[39m\u001b[38;5;241m.\u001b[39m_log_event(event_type, success\u001b[38;5;241m=\u001b[39m\u001b[38;5;28;01mFalse\u001b[39;00m, error\u001b[38;5;241m=\u001b[39me)\n",
      "File \u001b[0;32m/opt/anaconda3/envs/eds220-env/lib/python3.11/site-packages/otter/check/notebook.py:144\u001b[0m, in \u001b[0;36mNotebook.__init__\u001b[0;34m(self, nb_path, tests_dir, tests_url_prefix, colab, jupyterlite)\u001b[0m\n\u001b[1;32m    140\u001b[0m     \u001b[38;5;28mself\u001b[39m\u001b[38;5;241m.\u001b[39m_notebook \u001b[38;5;241m=\u001b[39m \u001b[38;5;28mself\u001b[39m\u001b[38;5;241m.\u001b[39m_config[\u001b[38;5;124m\"\u001b[39m\u001b[38;5;124mnotebook\u001b[39m\u001b[38;5;124m\"\u001b[39m]\n\u001b[1;32m    142\u001b[0m \u001b[38;5;28;01mif\u001b[39;00m \u001b[38;5;28mself\u001b[39m\u001b[38;5;241m.\u001b[39m_notebook:\n\u001b[1;32m    143\u001b[0m     \u001b[38;5;28mself\u001b[39m\u001b[38;5;241m.\u001b[39m_nbmeta_config \u001b[38;5;241m=\u001b[39m NBMetadataConfig\u001b[38;5;241m.\u001b[39mfrom_notebook(\n\u001b[0;32m--> 144\u001b[0m         \u001b[43mnbf\u001b[49m\u001b[38;5;241;43m.\u001b[39;49m\u001b[43mread\u001b[49m\u001b[43m(\u001b[49m\u001b[38;5;28;43mself\u001b[39;49m\u001b[38;5;241;43m.\u001b[39;49m\u001b[43m_notebook\u001b[49m\u001b[43m,\u001b[49m\u001b[43m \u001b[49m\u001b[43mnbf\u001b[49m\u001b[38;5;241;43m.\u001b[39;49m\u001b[43mNO_CONVERT\u001b[49m\u001b[43m)\u001b[49m)\n\u001b[1;32m    145\u001b[0m \u001b[38;5;28;01melse\u001b[39;00m:\n\u001b[1;32m    146\u001b[0m     \u001b[38;5;28mself\u001b[39m\u001b[38;5;241m.\u001b[39m_nbmeta_config \u001b[38;5;241m=\u001b[39m NBMetadataConfig()\n",
      "File \u001b[0;32m/opt/anaconda3/envs/eds220-env/lib/python3.11/site-packages/nbformat/__init__.py:171\u001b[0m, in \u001b[0;36mread\u001b[0;34m(fp, as_version, capture_validation_error, **kwargs)\u001b[0m\n\u001b[1;32m    169\u001b[0m     buf \u001b[38;5;241m=\u001b[39m fp\u001b[38;5;241m.\u001b[39mread()\n\u001b[1;32m    170\u001b[0m \u001b[38;5;28;01mexcept\u001b[39;00m \u001b[38;5;167;01mAttributeError\u001b[39;00m:\n\u001b[0;32m--> 171\u001b[0m     \u001b[38;5;28;01mwith\u001b[39;00m \u001b[38;5;28;43mopen\u001b[39;49m\u001b[43m(\u001b[49m\u001b[43mfp\u001b[49m\u001b[43m,\u001b[49m\u001b[43m \u001b[49m\u001b[43mencoding\u001b[49m\u001b[38;5;241;43m=\u001b[39;49m\u001b[38;5;124;43m\"\u001b[39;49m\u001b[38;5;124;43mutf8\u001b[39;49m\u001b[38;5;124;43m\"\u001b[39;49m\u001b[43m)\u001b[49m \u001b[38;5;28;01mas\u001b[39;00m f:  \u001b[38;5;66;03m# noqa: PTH123\u001b[39;00m\n\u001b[1;32m    172\u001b[0m         \u001b[38;5;28;01mreturn\u001b[39;00m reads(f\u001b[38;5;241m.\u001b[39mread(), as_version, capture_validation_error, \u001b[38;5;241m*\u001b[39m\u001b[38;5;241m*\u001b[39mkwargs)\n\u001b[1;32m    174\u001b[0m \u001b[38;5;28;01mreturn\u001b[39;00m reads(buf, as_version, capture_validation_error, \u001b[38;5;241m*\u001b[39m\u001b[38;5;241m*\u001b[39mkwargs)\n",
      "\u001b[0;31mFileNotFoundError\u001b[0m: [Errno 2] No such file or directory: 'hwk3-task1-spills.ipynb'"
     ]
    }
   ],
   "source": [
    "# Initialize Otter\n",
    "import otter\n",
    "grader = otter.Notebook(\"hwk3-task1-spills.ipynb\")"
   ]
  },
  {
   "cell_type": "markdown",
   "metadata": {},
   "source": [
    "# Task 1: Visualizing oil spills in NY State\n",
    "\n",
    "## Instructions\n",
    "\n",
    "- First, update the following cell to have a link to *your* Homework 3 GitHub repository:\n",
    "\n",
    "**UPDATE THIS LINK**\n",
    "https://github.com/ryangreen6/eds220-hwk3\n",
    "\n",
    "\n",
    "- Review the [complete rubric for this task](https://docs.google.com/document/d/1Ce4EO3MEHW5uLks4x8BECWlkim2bcmxB4f8Qo4z26z8/edit?usp=sharing) before starting.\n",
    "\n",
    "- **Meaningful commits should be made every time you finish a major step.** We'll check your repository and view the commit history.\n",
    "\n",
    "- Comment mindfully in a way that enriches your code. Comments should follow best practices.\n",
    "\n",
    "- **Do not update the top cell with the `otter` import**, this is used internally for grading.\n",
    "\n",
    "- Delete all the comments initially included in this notebook (ex: `# Your code here`).\n",
    "\n",
    "\n",
    "## About the data\n",
    "In this task you will use two datsets:\n",
    "\n",
    "### First dataset: oil spills data\n",
    "\n",
    "The first dataset contains information about [spilling incidents in the state of New York](https://data.ny.gov/Energy-Environment/Spill-Incidents/u44d-k5fk). \n",
    "You can find extra information and metadata for this dataset in the `NYSDEC_SpillIncidents_Overview.pdf` and `NYSDEC_SpillIncidents_DataDictionary.pdf` documents available at the portal.\n",
    "\n",
    "### Second dataset: TIGER shapefile\n",
    "\n",
    "The second dataset is the [the 2023 Counties (and equivalent) TIGER shapefile](https://www.census.gov/geographies/mapping-files/time-series/geo/tiger-line-file.2022.html#list-tab-790442341) from the Census Bureau. You can check the [metadata for all the TIGER shapefiles here](https://www.census.gov/programs-surveys/geography/technical-documentation/complete-technical-documentation/tiger-geo-line.html). "
   ]
  },
  {
   "cell_type": "markdown",
   "metadata": {},
   "source": [
    "\n",
    "## 1. File management\n",
    "a. Create a `data/` directory inside your `eds220-hwk3` directory. If you download any data, it should be transferred into this folder. \n",
    "\n",
    "b. Add the `data/` directory to your `.gitignore` file and push your changes. This is IMPORTANT: the datasets we'll be working with are large and they will most likely jam your `git` workflow if you try to push them. Your `data/` directory should not be in your GitHub repository."
   ]
  },
  {
   "cell_type": "markdown",
   "metadata": {},
   "source": [
    "## 2. Datasets description\n",
    "Read the metadata for both datsets and write a description about each one. Indicate the date sources and date of access.\n"
   ]
  },
  {
   "cell_type": "markdown",
   "metadata": {},
   "source": [
    "*Your answer here.*"
   ]
  },
  {
   "cell_type": "markdown",
   "metadata": {},
   "source": [
    "## 3. Import libraries"
   ]
  },
  {
   "cell_type": "code",
   "execution_count": 34,
   "metadata": {
    "tags": []
   },
   "outputs": [],
   "source": [
    "import pandas as pd\n",
    "import numpy as np\n",
    "import geopandas as gpd\n",
    "import matplotlib.pyplot as plt"
   ]
  },
  {
   "cell_type": "markdown",
   "metadata": {},
   "source": [
    "## 4. Import data \n",
    "In the next cell:\n",
    "\n",
    "- Import the NY spills data as a variable named `spills`. \n",
    "- Import the US counties data as a variable named `counties`.\n",
    "\n",
    "If you are using file paths to access the data, these should be constructed using the `os` package."
   ]
  },
  {
   "cell_type": "code",
   "execution_count": null,
   "metadata": {},
   "outputs": [],
   "source": [
    "spills = pd.read_csv('data/Spill_Incidents_20241104.csv')\n",
    "counties = gpd.read_file('data/tl_2023_us_county.shp')"
   ]
  },
  {
   "cell_type": "markdown",
   "metadata": {},
   "source": [
    "## 5. Prepare spills data\n",
    "\n",
    "This section refers to the `spills` dataframe. \n",
    "Check the outputs carefully, they will give you information you will need to use in the next exercises.\n",
    "\n",
    "### 5.A. Exploration\n",
    "\n",
    "In the next cells:\n",
    "\n",
    "a. Check the dataframe's head.\n",
    "\n",
    "b. Check the data types of the columns.\n",
    "\n",
    "c. Check the unique values in the `material_family` column.\n",
    "\n",
    "d. Check the unique values in the `county` column.\n",
    "\n",
    "You can add other cells for preliminary data exploration."
   ]
  },
  {
   "cell_type": "code",
   "execution_count": null,
   "metadata": {},
   "outputs": [],
   "source": [
    "# a. Check the dataframe's head\n",
    "spills.head()"
   ]
  },
  {
   "cell_type": "code",
   "execution_count": null,
   "metadata": {},
   "outputs": [],
   "source": [
    "# b. Check the data types of the columns\n",
    "spills.dtypes"
   ]
  },
  {
   "cell_type": "code",
   "execution_count": null,
   "metadata": {},
   "outputs": [],
   "source": [
    "\n",
    "# c. Checking unique values in the Material Family column of the dataframe `spills`\n",
    "spills['Material Family'].unique()"
   ]
  },
  {
   "cell_type": "code",
   "execution_count": null,
   "metadata": {},
   "outputs": [],
   "source": [
    "# d. Checking unique values in the County column of the dataframe `spills`\n",
    "spills['County'].unique()"
   ]
  },
  {
   "cell_type": "code",
   "execution_count": null,
   "metadata": {
    "tags": []
   },
   "outputs": [],
   "source": [
    "# Adding another preliminary exploration step\n",
    "spills.shape"
   ]
  },
  {
   "cell_type": "markdown",
   "metadata": {
    "deletable": false,
    "editable": false
   },
   "source": [
    "<!-- BEGIN QUESTION -->\n",
    "\n",
    "f. Use the next markdown cell to explain what information you obtained from the preliminary exploration. Use complete sentences."
   ]
  },
  {
   "cell_type": "markdown",
   "metadata": {},
   "source": [
    "I used `.shape` to determine the number of rows and columns of the dataframe to better understand its size. "
   ]
  },
  {
   "cell_type": "markdown",
   "metadata": {
    "deletable": false,
    "editable": false
   },
   "source": [
    "<!-- END QUESTION -->\n",
    "\n",
    "*Your answer here.*"
   ]
  },
  {
   "cell_type": "markdown",
   "metadata": {},
   "source": [
    "### 5.B. Cleaning\n",
    "a. Simplify column names as needed.\n",
    "\n",
    "b. Update column data types as needed. If you're not sure if any data types are needed at this point, you may come back later to this cell."
   ]
  },
  {
   "cell_type": "code",
   "execution_count": null,
   "metadata": {},
   "outputs": [],
   "source": [
    "# a. Simplifying column names\n",
    "spills.columns = spills.columns.str.lower().str.replace(' ', '_')"
   ]
  },
  {
   "cell_type": "code",
   "execution_count": null,
   "metadata": {},
   "outputs": [],
   "source": [
    "# b. Updating `spill_date` column to `datetime` data type\n",
    "spills['spill_date'] = pd.to_datetime(spills['spill_date'])"
   ]
  },
  {
   "cell_type": "markdown",
   "metadata": {},
   "source": [
    "### 5.C. Data selection\n",
    "\n",
    "a. Select data about petroleum spills that took place between January 1st 2023, and October 31st 2023 (including both dates). Store it in a variable named `petr_23`. The data selection should occur in a single line. You may add cells as needed."
   ]
  },
  {
   "cell_type": "code",
   "execution_count": null,
   "metadata": {},
   "outputs": [],
   "source": [
    "# a. Selecting petroleum spills in 2023\n",
    "petr_23 = spills[(spills['spill_date'] >= '2023-01-01') & (spills['spill_date'] <= '2023-10-31') & (spills[\"material_family\"] == \"Petroleum\")]"
   ]
  },
  {
   "cell_type": "markdown",
   "metadata": {
    "deletable": false,
    "editable": false
   },
   "source": [
    "<!-- BEGIN QUESTION -->\n",
    "\n",
    "b. Use `print()` and f-strings to print messages verifying that `petr_23` only has data for 2023 and from January through October.\n",
    "HINT: [pandas.Series.dt.year](https://pandas.pydata.org/docs/reference/api/pandas.Series.dt.year.html) and [pandas.Series.dt.month](https://pandas.pydata.org/docs/reference/api/pandas.Series.dt.month.html)."
   ]
  },
  {
   "cell_type": "code",
   "execution_count": null,
   "metadata": {
    "tags": []
   },
   "outputs": [],
   "source": [
    "# b. Verifying that `petr_23` has only petroleum spills from 2023, using f-strings\n",
    "years = petr_23['spill_date'].dt.year.unique()\n",
    "months = petr_23['spill_date'].dt.month.unique()\n",
    "\n",
    "# Print verification messages\n",
    "print(f\"Unique years in petr_23: {years}\")\n",
    "print(f\"Unique months in petr_23: {months}\")"
   ]
  },
  {
   "cell_type": "markdown",
   "metadata": {
    "deletable": false,
    "editable": false
   },
   "source": [
    "<!-- END QUESTION -->\n",
    "\n",
    "<!-- BEGIN QUESTION -->\n",
    "\n",
    "c. Write tests using `assert` to verify that `petr_23` only has data for petroleum spills."
   ]
  },
  {
   "cell_type": "code",
   "execution_count": null,
   "metadata": {
    "tags": []
   },
   "outputs": [],
   "source": [
    "# c. Using an `assert` test to verify that `petr_23` has only petroleum spills\n",
    "unique_materials = petr_23['material_family'].unique()\n",
    "assert unique_materials == ['Petroleum'], \\\n",
    "    f\"Non-petroleum material families found: {unique_materials}\""
   ]
  },
  {
   "cell_type": "markdown",
   "metadata": {
    "deletable": false,
    "editable": false
   },
   "source": [
    "<!-- END QUESTION -->\n",
    "\n",
    "### 5.D. Data aggregation\n",
    "\n",
    "Create new data frame named `spills_per_county` with the number of petroleum spills per county from January to October 2023 (i.e. use the `petr_23` dataframe).\n",
    "\n",
    "The resulting `spills_per_county` dataframe must be as follows:\n",
    "\n",
    "- Index: integer numbers starting from 0\n",
    "- Data frame has two columns only:\n",
    "    - Column one: county names, column name = `county`\n",
    "    - Column two: number of petroleum spills per county in 2023, column name = `n_spills`\n",
    "\n",
    "You may add cells if needed.\n"
   ]
  },
  {
   "cell_type": "code",
   "execution_count": null,
   "metadata": {
    "tags": []
   },
   "outputs": [],
   "source": [
    "# Creating new dataframe with the number of spills per county in 2023\n",
    "spills_per_county = petr_23.groupby('county').size().reset_index(name='n_spills')[['county', 'n_spills']]\n",
    "spills_per_county"
   ]
  },
  {
   "cell_type": "markdown",
   "metadata": {},
   "source": [
    "## 6. Prepare counties data\n",
    "\n",
    "This section refers to the `counties` geo-dataframe. \n",
    "Check the outputs carefully, they will give you context about the next exercises.\n",
    "\n",
    "### 6.A. Exploration\n",
    "\n",
    "In the next cells:\n",
    "\n",
    "a. Check the geo-dataframe's head.\n",
    "\n",
    "b. Check the data types of the columns.\n",
    "\n",
    "c. Check the geo-dataframe's CRS.\n",
    "\n",
    "d. Plot the geo-dataframe.\n",
    "\n",
    "You can add any other cells of preliminary data exploration."
   ]
  },
  {
   "cell_type": "code",
   "execution_count": null,
   "metadata": {},
   "outputs": [],
   "source": [
    "# a. Check the geo-dataframe's head\n",
    "counties.head()"
   ]
  },
  {
   "cell_type": "code",
   "execution_count": null,
   "metadata": {},
   "outputs": [],
   "source": [
    "# b. Check the data types of the columns\n",
    "counties.dtypes"
   ]
  },
  {
   "cell_type": "code",
   "execution_count": null,
   "metadata": {},
   "outputs": [],
   "source": [
    "# c. Check the geo-dataframe's CRS\n",
    "counties.crs"
   ]
  },
  {
   "cell_type": "code",
   "execution_count": null,
   "metadata": {},
   "outputs": [],
   "source": [
    "# d. Plot the geo-dataframe\n",
    "counties.plot()"
   ]
  },
  {
   "cell_type": "code",
   "execution_count": null,
   "metadata": {
    "tags": []
   },
   "outputs": [],
   "source": [
    "# One more preliminary data exploration step\n",
    "print(counties['NAME'].nunique())"
   ]
  },
  {
   "cell_type": "markdown",
   "metadata": {
    "deletable": false,
    "editable": false
   },
   "source": [
    "<!-- BEGIN QUESTION -->\n",
    "\n",
    "f. Use the next markdown cell to explain what information you obtained from the preliminary exploration. Use complete sentences."
   ]
  },
  {
   "cell_type": "markdown",
   "metadata": {},
   "source": [
    "I used `.nunique()` to check how many unqieu counties there are in the dataframe."
   ]
  },
  {
   "cell_type": "markdown",
   "metadata": {
    "deletable": false,
    "editable": false
   },
   "source": [
    "*Your answer here.*"
   ]
  },
  {
   "cell_type": "markdown",
   "metadata": {
    "deletable": false,
    "editable": false
   },
   "source": [
    "<!-- END QUESTION -->\n",
    "\n",
    "### 6.B. Cleaning\n",
    "\n",
    "Simplify column names as needed."
   ]
  },
  {
   "cell_type": "code",
   "execution_count": null,
   "metadata": {},
   "outputs": [],
   "source": [
    "# Simplifying column names\n",
    "counties.columns = counties.columns.str.lower().str.replace(' ', '_')"
   ]
  },
  {
   "cell_type": "markdown",
   "metadata": {},
   "source": [
    "### 6.C. Data selection\n",
    "\n",
    "Select all the counties for the state of New York in a new variable `ny_counties` and plot them."
   ]
  },
  {
   "cell_type": "code",
   "execution_count": null,
   "metadata": {},
   "outputs": [],
   "source": [
    "# Plotting the `ny_counties` geodataframe\n",
    "ny_counties = counties[counties['statefp'] == '36']\n",
    "ny_counties.plot()"
   ]
  },
  {
   "cell_type": "markdown",
   "metadata": {},
   "source": [
    "## 7 Merging\n",
    "\n",
    "The goal of this section is to create a single dataframe with the number of spills per county and the corresponding geometries for each county.\n",
    "\n",
    "### 7.A. Explore data\n",
    "\n",
    "In the next cells:\n",
    "\n",
    "a. Print the names of counties in `ny_counties`, without repetition.\n",
    "\n",
    "b. Print the names of counties in `spills_per_county`, without repetition. Examine the differences in the outputs.\n"
   ]
  },
  {
   "cell_type": "code",
   "execution_count": null,
   "metadata": {},
   "outputs": [],
   "source": [
    "# a. Print the names of counties in ny_counties, without repetition\n",
    "ny_counties['name'] = ny_counties['name'].str.replace(' County', '', regex=False)\n",
    "print(ny_counties['name'].unique())"
   ]
  },
  {
   "cell_type": "code",
   "execution_count": null,
   "metadata": {},
   "outputs": [],
   "source": [
    "# b. Print the names of counties in spills_per_county, without repetition\n",
    "print(spills_per_county['county'].unique())"
   ]
  },
  {
   "cell_type": "markdown",
   "metadata": {
    "deletable": false,
    "editable": false
   },
   "source": [
    "\n",
    "\n",
    "c. Which are the county names that are in `spills_per_county`, but not in `ny_counties`? Your answer should be a list of strings\n",
    "HINT: You can use the `numpy` function [`setdiff1d()`](https://numpy.org/doc/stable/reference/generated/numpy.setdiff1d.html), pay attention to the example in the documentation. Store your answer in the `diff_names` variable. \n",
    "\n"
   ]
  },
  {
   "cell_type": "code",
   "execution_count": null,
   "metadata": {
    "tags": []
   },
   "outputs": [],
   "source": [
    "# Finding the different names from `spills_per_county` and `ny_counties`\n",
    "diff_names = np.setdiff1d(spills_per_county['county'], ny_counties['name'])\n",
    "diff_names"
   ]
  },
  {
   "cell_type": "markdown",
   "metadata": {
    "deletable": false,
    "editable": false
   },
   "source": [
    "\n",
    "d. Which are the county names that are in `ny_counties`, but not in `spills_per_county`? Your answer should be a list of strings.\n"
   ]
  },
  {
   "cell_type": "code",
   "execution_count": null,
   "metadata": {
    "tags": []
   },
   "outputs": [],
   "source": [
    "# Finding the different names from `ny_counties` and `spills_per_county`\n",
    "diff_names_ny = np.setdiff1d(ny_counties['name'], spills_per_county['county'])\n",
    "diff_names_ny"
   ]
  },
  {
   "cell_type": "markdown",
   "metadata": {},
   "source": [
    "\n",
    "\n",
    "\n",
    "e. What is the number of spills in 'Tuscarora Indian Reservation'?\n"
   ]
  },
  {
   "cell_type": "code",
   "execution_count": null,
   "metadata": {},
   "outputs": [],
   "source": [
    "# e. Finding spills for Tuscarora Indian Reservation, of which there is only 1\n",
    "print(spills_per_county[spills_per_county['county'] == \"Tuscarora Indian Reservation\"]['n_spills'])"
   ]
  },
  {
   "cell_type": "markdown",
   "metadata": {},
   "source": [
    "### 7.B. Data updates\n",
    "\n",
    "In the next cell, update 'St Lawrence' to 'St. Lawrence' in `spills_per_county` data frame and use an `assert` statement to verify that the update was successful.\n",
    "\n",
    "You may add cells if needed."
   ]
  },
  {
   "cell_type": "code",
   "execution_count": null,
   "metadata": {},
   "outputs": [],
   "source": [
    "# Updating name of St. Lawrence county, and using `assert` to confirm the change\n",
    "spills_per_county['county'] = spills_per_county['county'].replace('St Lawrence', 'St. Lawrence')\n",
    "assert (spills_per_county['county'] == 'St. Lawrence').any(), 'Update failed'"
   ]
  },
  {
   "cell_type": "markdown",
   "metadata": {},
   "source": [
    "### 7.C. Merge\n",
    "\n",
    "In the following cells:\n",
    "\n",
    "a. Use this cell to make any other updates needed for making an inner join of the `spills_per_county` and `ny_counties`. \n",
    "\n",
    "b. Over-write `ny_counties` as the  inner join of the `spills_per_county` and `ny_counties` dataframes.\n"
   ]
  },
  {
   "cell_type": "code",
   "execution_count": null,
   "metadata": {},
   "outputs": [],
   "source": [
    "# a. Merging `ny_counties` and `spills_per_county` by column `county`; this cell and next cell\n",
    "ny_counties = ny_counties.rename(columns={'name': 'county'})\n",
    "ny_counties"
   ]
  },
  {
   "cell_type": "code",
   "execution_count": null,
   "metadata": {},
   "outputs": [],
   "source": [
    "# b. Merge cell\n",
    "ny_counties = pd.merge(ny_counties, spills_per_county, on='county', how='inner')"
   ]
  },
  {
   "cell_type": "markdown",
   "metadata": {},
   "source": [
    "\n",
    "From our previous exploration we know that Tuscarora Indian Reservation will not be in the join. Tuscarora Indian Reservation is located within Niagara county. \n",
    "\n",
    "c. Since the Tuscarora Indian Reservation does not appear in the `ny_counties` dataframe, add one spill to Niagara county. Add the cells you need to make this update **and** verify that the dataframe was updated."
   ]
  },
  {
   "cell_type": "code",
   "execution_count": null,
   "metadata": {},
   "outputs": [],
   "source": [
    "# c. Identifying the `Niagara` county column to confirm number of spills\n",
    "ny_counties[ny_counties['county'] == 'Niagara']"
   ]
  },
  {
   "cell_type": "code",
   "execution_count": null,
   "metadata": {
    "tags": []
   },
   "outputs": [],
   "source": [
    "# Adding one more spill to Niagara County, to account for the Tuscarora Reservation\n",
    "ny_counties.loc[ny_counties['county'] == 'Niagara', 'n_spills'] += 1\n",
    "\n",
    "ny_counties[ny_counties['county'] == 'Niagara']"
   ]
  },
  {
   "cell_type": "markdown",
   "metadata": {
    "deletable": false,
    "editable": false
   },
   "source": [
    "<!-- BEGIN QUESTION -->\n",
    "\n",
    "## 8. Map\n",
    "a. Create a choropleth map of the number of petroleum spills per county in the state of New York in 2023. \n",
    "Your map should be polished and have (at least) the following updates:\n",
    "- a legend indicating the number of spills\n",
    "- an updated color map\n",
    "- a title \n",
    "- no axis\n",
    "- an [annotation](https://matplotlib.org/stable/api/_as_gen/matplotlib.pyplot.annotate.html) with the data source (New York State Department of Environmental Conservation) and date of access.\n",
    "\n"
   ]
  },
  {
   "cell_type": "code",
   "execution_count": 31,
   "metadata": {
    "tags": []
   },
   "outputs": [
    {
     "data": {
      "image/png": "[encoded data removed]",
      "text/plain": [
       "<Figure size 640x480 with 2 Axes>"
      ]
     },
     "metadata": {},
     "output_type": "display_data"
    }
   ],
   "source": [
    "# a. Creating chloropleth map of petroleum spills across New York State\n",
    "\n",
    "fig, ax = plt.subplots()\n",
    "\n",
    "\n",
    "ax = ny_counties.plot(ax=ax, \n",
    "                      column = \"n_spills\", \n",
    "                      linewidth = 0.4,\n",
    "                      edgecolor = \"black\", \n",
    "                      cmap = \"YlOrRd\")\n",
    "\n",
    "\n",
    "ax.annotate(\n",
    "    \"Source: https://data.ny.gov/Energy-Environment/Spill-Incidents/u44d-k5fk/about_data\", \n",
    "    xy=(-75, 45),\n",
    "    xytext=(-80, 40),\n",
    "    #textcoords=\"offset points\",\n",
    "    fontsize=6,\n",
    "    color=\"black\"\n",
    ")\n",
    "\n",
    "sm = plt.cm.ScalarMappable(cmap='YlOrRd', \n",
    "                           norm=plt.Normalize(vmin=ny_counties['n_spills'].min(), \n",
    "                                              vmax=ny_counties['n_spills'].max()))\n",
    "sm._A = []\n",
    "cbar = fig.colorbar(sm, ax=ax)\n",
    "cbar.set_label(\"Number of Spills\", fontsize=12)\n",
    "\n",
    "ax.set_axis_off()\n",
    "ax.set_title('Petroleum Spills by County in New York (2023)')\n",
    "plt.show()"
   ]
  },
  {
   "cell_type": "markdown",
   "metadata": {
    "deletable": false,
    "editable": false
   },
   "source": [
    "<!-- END QUESTION -->\n",
    "\n",
    "<!-- BEGIN QUESTION -->\n",
    "\n",
    "b. Write a figure description for the map, including tha names of the top 3 counties with the most petroleum spills. If you need to do additional data analysis to include relevant information from the data, you may include additional code cells here."
   ]
  },
  {
   "cell_type": "markdown",
   "metadata": {},
   "source": [
    "This figure is a chloropleth map displaying the number of petroleum spills per county in the state of New York in 2023. The three counties that experienced the most spills were Westchester (743 spills), Suffolk (723 spills), and Nassau (576 spills) counties. The data for this figure was sourced from the New York State government website: https://data.ny.gov/Energy-Environment/Spill-Incidents/u44d-k5fk/about_data"
   ]
  }
 ],
 "metadata": {
  "kernelspec": {
   "display_name": "Anaconda 3 (EDS220)",
   "language": "python",
   "name": "eds220-env"
  },
  "language_info": {
   "codemirror_mode": {
    "name": "ipython",
    "version": 3
   },
   "file_extension": ".py",
   "mimetype": "text/x-python",
   "name": "python",
   "nbconvert_exporter": "python",
   "pygments_lexer": "ipython3",
   "version": "3.11.4"
  },
  "vscode": {
   "interpreter": {
    "hash": "0f97f47f74ab0b040131b6681dd542ab9cd7e1dcd971bc09e899dabc517362fa"
   }
  }
 },
 "nbformat": 4,
 "nbformat_minor": 4
}
